{
 "cells": [
  {
   "cell_type": "markdown",
   "id": "4d28673b-a3a6-4cbd-82e6-145f40e56d16",
   "metadata": {},
   "source": [
    "##### 1. What is Simple Linear Regression?"
   ]
  },
  {
   "cell_type": "code",
   "execution_count": null,
   "id": "4bf62b25-2a7e-48f0-a617-97c5493e57fd",
   "metadata": {},
   "outputs": [],
   "source": [
    "# Ans - Simple Linear Regression is a  method used to understand the relationship between two variables.\n",
    "# exapmle - We want to predict person's weight(y) based on height(x).\n",
    "# step1 -We make a best line to describe x-y relation.\n",
    "# step2- Using best line we can estimate weight for a specific height."
   ]
  },
  {
   "cell_type": "markdown",
   "id": "2eb46b61-6e4d-41bb-ba6f-d11c77d4a25a",
   "metadata": {},
   "source": [
    "##### 2.What are the key assumptions of Simple Linear Regression?"
   ]
  },
  {
   "cell_type": "code",
   "execution_count": null,
   "id": "a3f2eb32-7728-4d4b-8b77-27285a8aa24c",
   "metadata": {},
   "outputs": [],
   "source": [
    "# Ans - The relationship between X and Y is linear.\n",
    "#The data points are independent.\n",
    "#The errors are normally distributed and have constant variance."
   ]
  },
  {
   "cell_type": "markdown",
   "id": "4ec852dc-bebe-482c-a023-379ba9b3e051",
   "metadata": {},
   "source": [
    "##### 3.What does the coefficient m represent in the equation Y=mX+c? "
   ]
  },
  {
   "cell_type": "code",
   "execution_count": null,
   "id": "716c6723-c885-4f6a-aa9d-da116ab40692",
   "metadata": {},
   "outputs": [],
   "source": [
    "#Ans - m represents the slope of the line (shows how much Y changes for a unit change in X)."
   ]
  },
  {
   "cell_type": "markdown",
   "id": "46678c7c-081f-40f3-a588-f03e7d5cc935",
   "metadata": {},
   "source": [
    "##### 4. What does the intercept c represent in the equation Y=mX+c?"
   ]
  },
  {
   "cell_type": "code",
   "execution_count": null,
   "id": "ef200404-8521-4243-95db-b007935d56c2",
   "metadata": {},
   "outputs": [],
   "source": [
    "#Ans-The intercept c in the equation Y=mX+c represents the predicted value of Y when the input X=0.\n",
    "# It’s the baseline prediction when there is no influence from the input feature X."
   ]
  },
  {
   "cell_type": "markdown",
   "id": "eafc937c-c5d8-492d-9d0b-bfecc1dde177",
   "metadata": {},
   "source": [
    "##### 5.How do we calculate the slope m in Simple Linear Regression?"
   ]
  },
  {
   "cell_type": "code",
   "execution_count": null,
   "id": "69016a9b-5f66-4737-a360-45c45e05d14f",
   "metadata": {},
   "outputs": [],
   "source": [
    "# Ans -The slope m in Simple Linear Regression is calculated using the Least Squares Method.\n",
    "# formula for m is    m= ∑(Xi​−Xˉ)(Yi​−Yˉ)​/ ∑(Xi​−Xˉ)^2"
   ]
  },
  {
   "cell_type": "markdown",
   "id": "9b1ad5fc-e284-48af-96dc-be9acb9a4c4b",
   "metadata": {},
   "source": [
    "##### 6.What is the purpose of the least squares method in Simple Linear Regression?"
   ]
  },
  {
   "cell_type": "code",
   "execution_count": null,
   "id": "a63958e9-0cf6-447d-a425-e44b7cd3f83a",
   "metadata": {},
   "outputs": [],
   "source": [
    "# Ans -The least squares method is used in Simple Linear Regression to find the best-fit line by minimizing the difference between the actual data points and the predicted values.\n",
    "#Purpose:\n",
    "#1. Minimize error\n",
    "#2. Find Optimal Line\n",
    "#3. Predict Future Outcomes."
   ]
  },
  {
   "cell_type": "markdown",
   "id": "b5c6b6bd-301e-4053-bf0f-545a7c04c202",
   "metadata": {},
   "source": [
    "##### 7.How is the coefficient of determination (R²) interpreted in Simple Linear Regression ?"
   ]
  },
  {
   "cell_type": "code",
   "execution_count": null,
   "id": "3296c114-b69c-4cd8-b7e1-3a70a9029131",
   "metadata": {},
   "outputs": [],
   "source": [
    "# Ans - R² shows how well the regression line fits the data.\n",
    "#R² = 1 means perfect prediction (all data points fit exactly).\n",
    "#R² = 0 means the model doesn't help at all.\n",
    "#R² between 0 and 1 means the model explains some of the data variation—higher R² means better fit."
   ]
  },
  {
   "cell_type": "markdown",
   "id": "a99de428-c749-402b-bb3f-955d366e831b",
   "metadata": {},
   "source": [
    "##### 8.What is Multiple Linear Regression?"
   ]
  },
  {
   "cell_type": "code",
   "execution_count": null,
   "id": "769fb81b-a853-40b9-afc6-2688b9dfcbb9",
   "metadata": {},
   "outputs": [],
   "source": [
    "#Ans - Multiple Linear Regression is a method used to predict an outcome using two or more features.\n",
    "# It finds a relationship between the dependent variable and multiple independent variables to make predictions"
   ]
  },
  {
   "cell_type": "markdown",
   "id": "836a9456-cb23-4e06-acee-7fd122fef29c",
   "metadata": {},
   "source": [
    "##### 9. What is the main difference between Simple and Multiple Linear Regression?"
   ]
  },
  {
   "cell_type": "code",
   "execution_count": null,
   "id": "1b3fbe27-4896-4f33-83fd-89586284de8a",
   "metadata": {},
   "outputs": [],
   "source": [
    "#Ans - The main difference is:-\n",
    "#Simple Linear Regression uses one independent variable to predict the dependent variable.\n",
    "#Multiple Linear Regression uses two or more independent variables to predict the dependent variable."
   ]
  },
  {
   "cell_type": "markdown",
   "id": "f9c9e5b9-be89-47f0-bfc3-eccf46e55c5c",
   "metadata": {},
   "source": [
    "##### 10.What are the key assumptions of Multiple Linear Regression?"
   ]
  },
  {
   "cell_type": "code",
   "execution_count": null,
   "id": "e5c6512c-8ed8-43f1-90d1-1d7605d69530",
   "metadata": {},
   "outputs": [],
   "source": [
    "#Ans - The key assumptions of Multiple Linear Regression are:\n",
    "#Linearity: Relationship between variables is linear.\n",
    "#Independence: Data points are independent.\n",
    "#Homoscedasticity: Constant variance of errors.\n",
    "#No Multicollinearity: Independent variables aren't highly correlated.\n",
    "#Normality of Errors: Errors are normally distributed."
   ]
  },
  {
   "cell_type": "markdown",
   "id": "76d2d182-61dd-4e66-bfbd-a970a0d00103",
   "metadata": {},
   "source": [
    "##### 11.What is heteroscedasticity, and how does it affect the results of a Multiple Linear Regression model? "
   ]
  },
  {
   "cell_type": "code",
   "execution_count": null,
   "id": "632ba7a8-97c4-4b27-ab05-4f634d0f9ac3",
   "metadata": {},
   "outputs": [],
   "source": [
    "#Ans -Heteroscedasticity means the spread of errors is not consistent across all values of the independent variables.\n",
    "# It can make the model’s results less reliable and lead to wrong conclusions about the data."
   ]
  },
  {
   "cell_type": "markdown",
   "id": "f46932dc-c41d-4555-86ff-6089180e34d7",
   "metadata": {},
   "source": [
    "##### 12.How can you improve a Multiple Linear Regression model with high multicollinearity?"
   ]
  },
  {
   "cell_type": "code",
   "execution_count": null,
   "id": "b0c1d30e-d2d3-48ab-85d9-a6dd41ef80e0",
   "metadata": {},
   "outputs": [],
   "source": [
    "#Ans - Methods to improve a Multiple Linear Regression model with high multicollinearity:-\n",
    "#1.Remove highly correlated variables: Drop one of the correlated variables.\n",
    "#2.Use Regularization: Techniques like Ridge or Lasso regression can help reduce multicollinearity by penalizing large coefficients."
   ]
  },
  {
   "cell_type": "markdown",
   "id": "25aa8809-eb5b-4bbb-9c1d-726d36741072",
   "metadata": {},
   "source": [
    "##### 13.What are some common techniques for transforming categorical variables for use in regression models?"
   ]
  },
  {
   "cell_type": "code",
   "execution_count": null,
   "id": "47694aba-4f2d-42b3-8415-c7df065977dc",
   "metadata": {},
   "outputs": [],
   "source": [
    "#Ans -Common techniques for transforming categorical variables are:\n",
    "#One-Hot Encoding: Creates a separate column for each category.\n",
    "#Label Encoding: Assigns a number to each category.\n",
    "#Binary Encoding: Converts categories into binary digits."
   ]
  },
  {
   "cell_type": "markdown",
   "id": "3edce44d-c590-4523-82d1-bb87700e87cb",
   "metadata": {},
   "source": [
    "##### 14.What is the role of interaction terms in Multiple Linear Regression?"
   ]
  },
  {
   "cell_type": "code",
   "execution_count": null,
   "id": "3840e589-a152-414b-86cf-7555322a4ef9",
   "metadata": {},
   "outputs": [],
   "source": [
    "#Ans- Interaction terms in Multiple Linear Regression capture the combined effect of two or more predictors on the dependent variable. "
   ]
  },
  {
   "cell_type": "markdown",
   "id": "41b834a4-a2da-471e-aaf4-db9765718deb",
   "metadata": {},
   "source": [
    "##### 15.How can the interpretation of intercept differ between Simple and Multiple Linear Regression?"
   ]
  },
  {
   "cell_type": "code",
   "execution_count": null,
   "id": "eb3aac8a-8cde-40bc-937d-d61faf295650",
   "metadata": {},
   "outputs": [],
   "source": [
    "#Ans - In Simple Linear Regression, the intercept is the predicted value when the independent variable is 0.\n",
    "# In Multiple Linear Regression, it's the predicted value when all independent variables are 0. "
   ]
  },
  {
   "cell_type": "markdown",
   "id": "090d91c1-9e07-4dbc-b6b2-b470a8251580",
   "metadata": {},
   "source": [
    "##### 16.What is the significance of the slope in regression analysis, and how does it affect predictions?"
   ]
  },
  {
   "cell_type": "code",
   "execution_count": null,
   "id": "9f0c43f9-8bd8-46b4-8b2a-2f39b4a7f2c5",
   "metadata": {},
   "outputs": [],
   "source": [
    "#Ans - The slope in regression shows how much the dependent variable changes with a one-unit change in the independent variable. \n",
    "# It affects predictions by indicating whether the dependent variable increases or decreases as the independent variable changes."
   ]
  },
  {
   "cell_type": "markdown",
   "id": "5ddce972-e537-447f-ae53-369a4084a6ae",
   "metadata": {},
   "source": [
    "##### 17.How does the intercept in a regression model provide context for the relationship between variables?"
   ]
  },
  {
   "cell_type": "code",
   "execution_count": null,
   "id": "90132189-9f93-43f1-9195-1f1e68e740d7",
   "metadata": {},
   "outputs": [],
   "source": [
    "#Ans - The intercept in a regression model provides the predicted value of the dependent variable when all independent variables are zero.\n",
    "# It helps set the baseline for the relationship between the variables. "
   ]
  },
  {
   "cell_type": "markdown",
   "id": "01445e3f-0578-4374-8e59-f99f8c16d5a8",
   "metadata": {},
   "source": [
    "##### 18.What are the limitations of using R² as a sole measure of model performance? "
   ]
  },
  {
   "cell_type": "code",
   "execution_count": null,
   "id": "5b258bfe-dd85-4f50-a4a8-555f8406992b",
   "metadata": {},
   "outputs": [],
   "source": [
    "#Ans - Limitations are:-\n",
    "#Doesn't show model accuracy: A high R² doesn't guarantee the model makes accurate predictions.\n",
    "#Sensitive to outliers: Outliers can artificially inflate R².\n",
    "#Doesn't handle complexity: R² can be high even with overfitting, where the model is too complex."
   ]
  },
  {
   "cell_type": "markdown",
   "id": "b843d55f-8f9f-4311-b125-9ecc67bbbece",
   "metadata": {},
   "source": [
    "##### 19.How would you interpret a large standard error for a regression coefficient?"
   ]
  },
  {
   "cell_type": "code",
   "execution_count": null,
   "id": "10417283-9080-4163-a7e4-c9df8b3c021e",
   "metadata": {},
   "outputs": [],
   "source": [
    "#Ans -A large standard error means the coefficient estimate is uncertain and less reliable, making it harder to trust the result."
   ]
  },
  {
   "cell_type": "markdown",
   "id": "264b10a6-0ea0-48cb-9985-0f50e738c4a3",
   "metadata": {},
   "source": [
    "##### 20. How can heteroscedasticity be identified in residual plots, and why is it important to address it?"
   ]
  },
  {
   "cell_type": "code",
   "execution_count": null,
   "id": "50a68c19-bba6-47aa-bc46-fce73b0512cf",
   "metadata": {},
   "outputs": [],
   "source": [
    "#Ans - In a residual plot, heteroscedasticity appears as a pattern where the spread of residuals (vertical distance) increases or decreases as predicted values change. Look for a \"funnel shape\" or uneven spread.\n",
    "#Heteroscedasticity violates the assumption of constant variance in regression, making statistical tests unreliable and predictions less accurate. Addressing it ensures valid results."
   ]
  },
  {
   "cell_type": "markdown",
   "id": "e78de5e2-c8f2-44f8-86c0-e8f96c6c8b8e",
   "metadata": {},
   "source": [
    "##### 21. What does it mean if a Multiple Linear Regression model has a high R² but low adjusted R²?"
   ]
  },
  {
   "cell_type": "code",
   "execution_count": null,
   "id": "62c3e620-572f-4be6-a47a-bea17a730802",
   "metadata": {},
   "outputs": [],
   "source": [
    "#Ans - A high R^2 but low adjusted R2 means the model includes unnecessary predictors that don’t improve its performance, indicating possible overfitting."
   ]
  },
  {
   "cell_type": "markdown",
   "id": "475dfc65-504e-4c2e-b470-e9b8f0d0a248",
   "metadata": {},
   "source": [
    "##### 22.Why is it important to scale variables in Multiple Linear Regression? "
   ]
  },
  {
   "cell_type": "code",
   "execution_count": null,
   "id": "5197a123-10cc-43f9-9ad7-dbb1e0112849",
   "metadata": {},
   "outputs": [],
   "source": [
    "#Ans-Scaling variables in Multiple Linear Regression is important for several reasons:\n",
    "#Improved Numerical Stability\n",
    "#Faster Convergence\n",
    "#Improved Interpretation of Coefficients "
   ]
  },
  {
   "cell_type": "markdown",
   "id": "2d67c363-31a7-4cc0-866f-ac80512d9305",
   "metadata": {},
   "source": [
    "##### 23. What is polynomial regression?"
   ]
  },
  {
   "cell_type": "code",
   "execution_count": null,
   "id": "3091e30b-8912-4426-a0a9-f5ac9a2e1c34",
   "metadata": {},
   "outputs": [],
   "source": [
    "#Ans-Polynomial regression is a type of regression where the relationship between the input (x) and output (y) is modeled as a polynomial.\n",
    "#e.g -  y=ax^2+bx+c\n",
    "#It helps capture non-linear patterns in the data."
   ]
  },
  {
   "cell_type": "markdown",
   "id": "60f4f0d2-73fd-484e-9c60-dd84a05ee488",
   "metadata": {},
   "source": [
    "##### 24.How does polynomial regression differ from linear regression?"
   ]
  },
  {
   "cell_type": "code",
   "execution_count": 7,
   "id": "47f1fb1e-e089-4a75-a2bf-30cbe0f443d0",
   "metadata": {},
   "outputs": [],
   "source": [
    "#Ans-The key difference is:\n",
    "#Linear Regression models a straight-line relationship between input (x) and output (y).\n",
    "#Polynomial Regression models a curved relationship by adding polynomial terms to capture non-linear patterns."
   ]
  },
  {
   "cell_type": "markdown",
   "id": "6bc05c8d-7e37-4ba6-8bbb-612401b8ce83",
   "metadata": {},
   "source": [
    "##### 25.When is polynomial regression used?"
   ]
  },
  {
   "cell_type": "code",
   "execution_count": null,
   "id": "05d4a69d-d5e9-4ec8-83a9-4b58832c90c4",
   "metadata": {},
   "outputs": [],
   "source": [
    "#Ans - Polynomial regression is used when the relationship between the input and output is non-linear, and a straight line (linear regression) doesn't fit the data well."
   ]
  },
  {
   "cell_type": "markdown",
   "id": "365a4390-dc40-41ec-a1e6-fdb9c1eb0113",
   "metadata": {},
   "source": [
    "##### 26.What is the general equation for polynomial regression?"
   ]
  },
  {
   "cell_type": "code",
   "execution_count": null,
   "id": "46f5904d-d3ad-40fb-b15b-7bbc57d894d5",
   "metadata": {},
   "outputs": [],
   "source": [
    "#Ans - general ewuation:-  y=box+b1x+b2x^2+b3x^3+......+bnx^n\n",
    "#y is the output and x is the input.\n",
    "#b0,b1,b2....bn are the coefficient.\n",
    "#n is the degree of polynomial."
   ]
  },
  {
   "cell_type": "markdown",
   "id": "2f0e2720-35cd-45e1-9c10-25b2befb17d6",
   "metadata": {},
   "source": [
    "##### 27. Can polynomial regression be applied to multiple variables?"
   ]
  },
  {
   "cell_type": "code",
   "execution_count": null,
   "id": "11f12653-5de6-4a6f-a4fc-6dd59f94ce67",
   "metadata": {},
   "outputs": [],
   "source": [
    "#Ans - Yes, polynomial regression can be applied to multiple variables.\n",
    "#This is called multivariate polynomial regression."
   ]
  },
  {
   "cell_type": "markdown",
   "id": "ed13020d-3908-4fb9-8a41-dcb310317615",
   "metadata": {},
   "source": [
    "##### 28.What are the limitations of polynomial regression?"
   ]
  },
  {
   "cell_type": "code",
   "execution_count": null,
   "id": "5ef44c00-4499-4d25-b027-cb312ea4c3df",
   "metadata": {},
   "outputs": [],
   "source": [
    "#Ans - Limitations are:-\n",
    "#Overfitting: High-degree polynomials fit training data too well, leading to poor generalization.\n",
    "#Outliers: Sensitive to outliers, which can distort the fit.\n",
    "#Complexity: Becomes hard to interpret and computationally expensive with higher degrees."
   ]
  },
  {
   "cell_type": "markdown",
   "id": "1cda51df-421e-4293-b39f-27e8bf7c9a8f",
   "metadata": {},
   "source": [
    "##### 29.What methods can be used to evaluate model fit when selecting the degree of a polynomial?"
   ]
  },
  {
   "cell_type": "code",
   "execution_count": null,
   "id": "cf11cc59-dad4-4a36-bad6-6034e7573a0a",
   "metadata": {},
   "outputs": [],
   "source": [
    "#Ans - To evaluate model fit when selecting the polynomial degree,we can use:\n",
    "#R-squared: Measures how well the model fits the data.\n",
    "#Cross-validation: Tests model performance on new data.\n",
    "#MSE: Measures prediction error.\n",
    "#Adjusted R-squared: Adjusts R² for more variables."
   ]
  },
  {
   "cell_type": "markdown",
   "id": "087b9b72-bb01-4db3-b9ba-ea39b3ca8090",
   "metadata": {},
   "source": [
    "##### 30.Why is visualization important in polynomial regression?"
   ]
  },
  {
   "cell_type": "code",
   "execution_count": null,
   "id": "e6da0520-59d3-4e2f-b0c4-1c60f279174d",
   "metadata": {},
   "outputs": [],
   "source": [
    "#Ans -Visualization is important in polynomial regression because it helps:\n",
    "#Understand the model fit\n",
    "#Detect overfitting\n",
    "#Identify trends and compare different models."
   ]
  },
  {
   "cell_type": "markdown",
   "id": "e6e9a890-ba21-427b-ab00-60c96d672969",
   "metadata": {},
   "source": [
    "##### 31.How is polynomial regression implemented in Python?"
   ]
  },
  {
   "cell_type": "code",
   "execution_count": 20,
   "id": "cd25b3c2-25b8-492a-bdbf-d12643250c31",
   "metadata": {},
   "outputs": [
    {
     "data": {
      "image/png": "[encoded data removed]",
      "text/plain": [
       "<Figure size 640x480 with 1 Axes>"
      ]
     },
     "metadata": {},
     "output_type": "display_data"
    }
   ],
   "source": [
    "import numpy as np\n",
    "import matplotlib.pyplot as plt\n",
    "from sklearn.linear_model import LinearRegression\n",
    "from sklearn.preprocessing import PolynomialFeatures\n",
    "\n",
    "# Data\n",
    "X = np.array([[1], [2], [3], [4], [5]])\n",
    "y = np.array([1, 4, 9, 16, 25])\n",
    "\n",
    "# Polynomial transformation\n",
    "poly = PolynomialFeatures(degree=2)\n",
    "X_poly = poly.fit_transform(X)\n",
    "\n",
    "# Fit the model\n",
    "model = LinearRegression()\n",
    "model.fit(X_poly, y)\n",
    "\n",
    "# Prediction\n",
    "y_pred = model.predict(X_poly)\n",
    "\n",
    "# Plot\n",
    "plt.scatter(X, y, color='green')\n",
    "plt.plot(X, y_pred, color='red')\n",
    "plt.show()\n"
   ]
  },
  {
   "cell_type": "code",
   "execution_count": null,
   "id": "8448ebef-4d68-45f3-bdf8-6de5a9fb7222",
   "metadata": {},
   "outputs": [],
   "source": []
  }
 ],
 "metadata": {
  "kernelspec": {
   "display_name": "Python 3 (ipykernel)",
   "language": "python",
   "name": "python3"
  },
  "language_info": {
   "codemirror_mode": {
    "name": "ipython",
    "version": 3
   },
   "file_extension": ".py",
   "mimetype": "text/x-python",
   "name": "python",
   "nbconvert_exporter": "python",
   "pygments_lexer": "ipython3",
   "version": "3.12.4"
  }
 },
 "nbformat": 4,
 "nbformat_minor": 5
}
