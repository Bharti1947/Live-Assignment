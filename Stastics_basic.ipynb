{
  "nbformat": 4,
  "nbformat_minor": 0,
  "metadata": {
    "colab": {
      "provenance": []
    },
    "kernelspec": {
      "name": "python3",
      "display_name": "Python 3"
    },
    "language_info": {
      "name": "python"
    }
  },
  "cells": [
    {
      "cell_type": "markdown",
      "source": [
        "1. Explain the different types of data (qualitative and quantitative) and provide examples of each. Discuss\n",
        "nominal, ordinal, interval, and ratio scales."
      ],
      "metadata": {
        "id": "3LIJqitZx0y_"
      }
    },
    {
      "cell_type": "code",
      "execution_count": null,
      "metadata": {
        "id": "BLfZHcKWxuym"
      },
      "outputs": [],
      "source": [
        "#Qualitative Data:-Qualitative data is descriptive and represents characteristics or qualities. It is non-numerical.\n",
        "#(a) Nominal Scale - Data is categorized into groups without any order or ranking, e.g - Gender(Male, female).\n",
        "#(b) Ordinal Scale - Data is categorized into groups that have a specific order or ranking, e.g - Education level (High School, Bachelor’s, Master’s, PhD).\n",
        "\n",
        "# Quanttitative Data :- Quantitative data represents numerical values or amounts.\n",
        "#(a) Interval Scale - Data is measured along a scale where the difference between values is meaningful and consistent, e.g - Dates (2000, 2020).\n",
        "#(b) Ratio Scale -  Data is measured along a scale with a true zero point, which means zero represents the absence of the quantity being measured, e.g - Weight."
      ]
    },
    {
      "cell_type": "markdown",
      "source": [
        " 2. What are the measures of central tendency, and when should you use each? Discuss the mean, median,\n",
        "and mode with examples and situations where each is appropriate."
      ],
      "metadata": {
        "id": "ib-BMWt_0oTz"
      }
    },
    {
      "cell_type": "code",
      "source": [
        "# Measures of central tendency are statistical values that describe the center point of a data set.\n",
        "# These measures provide a single value that represents the entire distribution of data.\n",
        "#  The three main measures of central tendency are mean, median and mode."
      ],
      "metadata": {
        "id": "MMTeyVVo-lTY"
      },
      "execution_count": null,
      "outputs": []
    },
    {
      "cell_type": "code",
      "source": [
        "# Mean : - It is a average value of a data.\n",
        "# It is the sum of all data points divided by number of point.\n",
        "# It is used when data is symmetric and doesn't have extreme outliers.\n",
        "# Example - The average score of students\n",
        "import numpy as np\n",
        "score = [10,15,20,30]\n",
        "np.mean(score)\n"
      ],
      "metadata": {
        "colab": {
          "base_uri": "https://localhost:8080/"
        },
        "id": "ahofVToR9qi3",
        "outputId": "73cfa4c2-f728-4d56-fb79-87155239e5fe"
      },
      "execution_count": 3,
      "outputs": [
        {
          "output_type": "execute_result",
          "data": {
            "text/plain": [
              "18.75"
            ]
          },
          "metadata": {},
          "execution_count": 3
        }
      ]
    },
    {
      "cell_type": "code",
      "source": [
        "# Median : - The median is the middle value in an ordered data set.\n",
        "# It is used when data have outliers.\n",
        "# Example - Employee's Salary.\n",
        "Salary = [1000, 15000, 18000, 20000, 200000]\n",
        "np.median(Salary)"
      ],
      "metadata": {
        "colab": {
          "base_uri": "https://localhost:8080/"
        },
        "id": "8WHDou_0_BQj",
        "outputId": "76e11a22-dc83-4214-82be-a35934c80bf4"
      },
      "execution_count": 4,
      "outputs": [
        {
          "output_type": "execute_result",
          "data": {
            "text/plain": [
              "18000.0"
            ]
          },
          "metadata": {},
          "execution_count": 4
        }
      ]
    },
    {
      "cell_type": "code",
      "source": [
        "# Mode :- The mode is the most frequently occurring value in a dataset.\n",
        "# For categorical data or discrete variables where we want to know the most common category or value.\n",
        "# Example - In a suryey the no. of person in a family.\n",
        "import statistics\n",
        "data = [4,2,5,2,4,4,3,6]\n",
        "statistics.mode(data)"
      ],
      "metadata": {
        "colab": {
          "base_uri": "https://localhost:8080/"
        },
        "id": "YOqBx0qa_Zil",
        "outputId": "64007e10-04ae-4449-dd3c-708da967fc81"
      },
      "execution_count": 6,
      "outputs": [
        {
          "output_type": "execute_result",
          "data": {
            "text/plain": [
              "4"
            ]
          },
          "metadata": {},
          "execution_count": 6
        }
      ]
    },
    {
      "cell_type": "markdown",
      "source": [
        "3. Explain the concept of dispersion. How do variance and standard deviation measure the spread of data?\n"
      ],
      "metadata": {
        "id": "mEt7FO3Z6Cra"
      }
    },
    {
      "cell_type": "code",
      "source": [
        "# Dispersion shows how spread out data is in a dataset.\n",
        "# Variance :-  measures the average of the squared differences from the mean.\n",
        "# It tells us how far the data points are from the mean.\n",
        "# higher variance indicating more spread.\n",
        "\n",
        "# Standard Deviation :- It  is the square root of variance.\n",
        "# It shows the spread of data in the same units as the original data, making it easier to understand.\n",
        "# A higher standard deviation means the data points are more spread out."
      ],
      "metadata": {
        "id": "kJMRAblG6K63"
      },
      "execution_count": null,
      "outputs": []
    },
    {
      "cell_type": "code",
      "source": [
        "d1 = [2, 3, 5, 7, 8, 9, 1, 2, 3, 4, 5]"
      ],
      "metadata": {
        "id": "GHMNTV8oAtR6"
      },
      "execution_count": 9,
      "outputs": []
    },
    {
      "cell_type": "code",
      "source": [
        "#Variance\n",
        "np.var(d1)"
      ],
      "metadata": {
        "colab": {
          "base_uri": "https://localhost:8080/"
        },
        "id": "x3YAJii0AYF2",
        "outputId": "11ad5b6c-f0ff-4fa6-a6be-9a58f9f9af29"
      },
      "execution_count": 10,
      "outputs": [
        {
          "output_type": "execute_result",
          "data": {
            "text/plain": [
              "6.24793388429752"
            ]
          },
          "metadata": {},
          "execution_count": 10
        }
      ]
    },
    {
      "cell_type": "code",
      "source": [
        "# Standard deviation\n",
        "np.std(d1)"
      ],
      "metadata": {
        "colab": {
          "base_uri": "https://localhost:8080/"
        },
        "id": "-o6XAY6VAz1a",
        "outputId": "301f341b-9e1b-45cd-cb7b-55d4e99faa45"
      },
      "execution_count": 11,
      "outputs": [
        {
          "output_type": "execute_result",
          "data": {
            "text/plain": [
              "2.4995867427031855"
            ]
          },
          "metadata": {},
          "execution_count": 11
        }
      ]
    },
    {
      "cell_type": "markdown",
      "source": [
        "4. What is a box plot, and what can it tell you about the distribution of data?"
      ],
      "metadata": {
        "id": "lewfWLrA7b5c"
      }
    },
    {
      "cell_type": "code",
      "source": [
        "# A box plot is a visual tool that shows the distribution of data using five key points:-\n",
        "# Minimum: The smallest data point (excluding outliers).\n",
        "# First Quartile (Q1): The median of the lower half of the dataset (25th percentile).\n",
        "# Median (Q2): The middle value of the dataset (50th percentile).\n",
        "# Third Quartile (Q3): The median of the upper half of the dataset (75th percentile).\n",
        "# Maximum: The largest data point (excluding outliers).\n",
        "\n",
        "# Box plot give us:\n",
        "# The spread of the data.\n",
        "# Whether the data is skewed.\n",
        "# The presence of outliers."
      ],
      "metadata": {
        "id": "X6HbHJGv7dOr"
      },
      "execution_count": null,
      "outputs": []
    },
    {
      "cell_type": "markdown",
      "source": [
        "5. Discuss the role of random sampling in making inferences about populations."
      ],
      "metadata": {
        "id": "UgjRR55l86gu"
      }
    },
    {
      "cell_type": "code",
      "source": [
        "# Random sampling : - Random sampling is a method of selecting individuals from a population such that each individual has an equal chance of being chosen.\n",
        "# This method ensures that the sample reflects the diversity and characteristics of the entire population.\n",
        "# Random sampling is essential in statistics for making inferences about populations.\n",
        "# It reduces bias, enhances representativeness, supports statistical inference, quantifies uncertainty, facilitates experimental design, improves validity, and allows for generalizability of results.\n",
        "# By ensuring that samples are randomly selected, researchers can draw more accurate and reliable conclusions about the populations they study."
      ],
      "metadata": {
        "id": "eSDZV4pT9AJl"
      },
      "execution_count": null,
      "outputs": []
    },
    {
      "cell_type": "markdown",
      "source": [
        "6. Explain the concept of skewness and its types. How does skewness affect the interpretation of data?\n"
      ],
      "metadata": {
        "id": "-k_lcs8MGltU"
      }
    },
    {
      "cell_type": "code",
      "source": [
        "#Skewness is a statistical measure that describes the asymmetry of a probability distribution.\n",
        "# Types of Skewness:-\n",
        "# Positive Skewness:\n",
        "# Tail is longer on the right.\n",
        "# Most data points are on the left.\n",
        "# Example: Income distribution.\n",
        "\n",
        "# Negative Skewness:\n",
        "#Tail is longer on the left.\n",
        "#Most data points are on the right.\n",
        "#Example: Age at retirement.\n",
        "\n",
        "# Zero Skewness:\n",
        "#Distribution is symmetrical.\n",
        "#Example: Heights of individuals in a population.\n"
      ],
      "metadata": {
        "id": "LTWLFK_WUGCO"
      },
      "execution_count": null,
      "outputs": []
    },
    {
      "cell_type": "markdown",
      "source": [
        "Effect on Data Interpretation"
      ],
      "metadata": {
        "id": "ooJwU4kLVD6W"
      }
    },
    {
      "cell_type": "code",
      "source": [
        "# Mean vs. Median: In positively skewed data, the mean > median; in negatively skewed data, the mean < median.\n",
        "# Statistical Analysis: Skewness can affect the validity of statistical tests that assume normality.\n",
        "# Outliers: Skewness may indicate the presence of outliers, impacting overall analysis."
      ],
      "metadata": {
        "id": "WrW9qtObVJZ6"
      },
      "execution_count": null,
      "outputs": []
    },
    {
      "cell_type": "markdown",
      "source": [
        "7.  What is the interquartile range (IQR), and how is it used to detect outliers?"
      ],
      "metadata": {
        "id": "0A1nsbfHScaE"
      }
    },
    {
      "cell_type": "code",
      "source": [
        "# The Interquartile Range (IQR) is a measure of statistical dispersion that represents the range within which the central 50% of the data falls.\n",
        "# Calculated as : IQR = Q3−Q1, where Q1 = first Quartile, Q2 = Second Quartile.\n",
        "\n",
        "# Using IQR to Detect Outliers\n",
        "#Calculate Bounds:\n",
        "  #Lower Bound: Q1−1.5×IQRQ1−1.5×IQR\n",
        "  #Upper Bound: Q3+1.5×IQRQ3+1.5×IQR\n",
        "\n",
        "#Identify Outliers:\n",
        "#Any data point below the lower bound or above the upper bound is considered an outlier.\n",
        "\n",
        "# The IQR measures data spread and helps identify outliers based on calculated bounds.\n"
      ],
      "metadata": {
        "id": "MPB18jtkSfxA"
      },
      "execution_count": null,
      "outputs": []
    },
    {
      "cell_type": "markdown",
      "source": [
        "8. Discuss the conditions under which the binomial distribution is used."
      ],
      "metadata": {
        "id": "NKsazF54R1Tx"
      }
    },
    {
      "cell_type": "code",
      "source": [
        "# The binomial distribution is used when:\n",
        "# There is a fixed number of trials.\n",
        "# Each trial has two outcomes (success or failure).\n",
        "# The probability of success is constant across trials.\n",
        "# The trials are independent of each other."
      ],
      "metadata": {
        "id": "JRzTKQ3bSD99"
      },
      "execution_count": null,
      "outputs": []
    },
    {
      "cell_type": "markdown",
      "source": [
        "9. Explain the properties of the normal distribution and the empirical rule (68-95-99.7 rule)."
      ],
      "metadata": {
        "id": "a-knWdSTQAgK"
      }
    },
    {
      "cell_type": "code",
      "source": [
        "# Properties of Normal Distribution :-\n",
        "# Symmetry: The distribution is symmetric around the mean.\n",
        "# Mean, Median, and Mode: All are equal and located at the center.\n",
        "# Defined by Mean and Standard Deviation: Characterized by its mean (μ) and standard deviation (σ).\n",
        "# Tails: The tails approach the horizontal axis but never touch it.\n",
        "# Area Under the Curve: Total area equals 1, representing total probability.\n",
        "\n",
        "# Empirical rule :-\n",
        "# 68 - Approximately 68% of the data falls within one standard deviation (σ) of the mean (μ).\n",
        "# it is represent as : μ−σ to μ+σ\n",
        "# 95 - About 95% of the data falls within two standard deviations (σ) of the mean (μ).\n",
        "# it is represent as : μ−2σ to μ+2σ\n",
        "# 99.7 - Roughly 99.7% of the data falls within three standard deviations (σ) of the mean (μ).\n",
        "# it is represent as : μ−3σ to μ+3σ\n"
      ],
      "metadata": {
        "id": "EnuFi674QC9l"
      },
      "execution_count": null,
      "outputs": []
    },
    {
      "cell_type": "markdown",
      "source": [
        "10. Provide a real-life example of a Poisson process and calculate the probability for a specific event."
      ],
      "metadata": {
        "id": "8OpABlCwNaXX"
      }
    },
    {
      "cell_type": "code",
      "source": [
        "# A Poisson process is a statistical model used to describe events that occur randomly over a fixed period of time or space.\n",
        "# Example - A library receives an average of 4 book returns per hour.\n",
        "# Goal - Find the probability of receiving exactly 2 book returns in one hour.\n"
      ],
      "metadata": {
        "id": "dgzJR6uwN19D"
      },
      "execution_count": 23,
      "outputs": []
    },
    {
      "cell_type": "code",
      "source": [
        "import math\n",
        "\n",
        "lambda_value = 4  # average returns per hour\n",
        "k = 2  # number of returns we want the probability for\n",
        "\n",
        "# Calculate the probability P(X = k) using the Poisson formula\n",
        "probability = (math.exp(-lambda_value) * (lambda_value ** k)) / math.factorial(k)\n",
        "\n",
        "print(f\"The probability of receiving exactly {k} book returns in one hour is: {probability:.4f}\")\n"
      ],
      "metadata": {
        "colab": {
          "base_uri": "https://localhost:8080/"
        },
        "id": "nufG6axpPT_L",
        "outputId": "1790cb81-cdc8-45a0-82a8-69f7ead34ea2"
      },
      "execution_count": 25,
      "outputs": [
        {
          "output_type": "stream",
          "name": "stdout",
          "text": [
            "The probability of receiving exactly 2 book returns in one hour is: 0.1465\n"
          ]
        }
      ]
    },
    {
      "cell_type": "markdown",
      "source": [
        "11. Explain what a random variable is and differentiate between discrete and continuous random variables.\n"
      ],
      "metadata": {
        "id": "mhCnvwbFL2Yh"
      }
    },
    {
      "cell_type": "code",
      "source": [
        "# Random Variable :- A random variable is a numerical outcome of a random phenomenon. It assigns a real number to each possible outcome of a random experiment, allowing us to analyze and quantify uncertainty.\n",
        "# Discrete random variable - A discrete random variable can take on a countable number of distinct values. This typically involves whole numbers or specific categories.\n",
        "# Example - No. of students in class.\n",
        "\n",
        "#Continuous Random Variable -  A continuous random variable can take on an infinite number of values within a given range.\n",
        "# Example - Height of students.\n"
      ],
      "metadata": {
        "id": "N4GaDW5rGqp0"
      },
      "execution_count": null,
      "outputs": []
    },
    {
      "cell_type": "markdown",
      "source": [
        "12. Provide an example dataset, calculate both covariance and correlation, and interpret the results."
      ],
      "metadata": {
        "id": "7mNHzHEWLw2q"
      }
    },
    {
      "cell_type": "code",
      "source": [
        "import numpy as np\n",
        "import pandas as pd\n",
        "\n",
        "# Create the dataset\n",
        "data = {\n",
        "    'Height': [150, 160, 170, 180, 190],\n",
        "    'Weight': [50, 60, 70, 80, 90]\n",
        "}\n",
        "df = pd.DataFrame(data)\n",
        "\n",
        "# Calculate covariance\n",
        "covariance = df.cov().iloc[0, 1]\n",
        "\n",
        "# Calculate correlation\n",
        "correlation = df.corr().iloc[0, 1]\n",
        "\n",
        "covariance, correlation\n"
      ],
      "metadata": {
        "colab": {
          "base_uri": "https://localhost:8080/"
        },
        "id": "fzoFbdt9KwCI",
        "outputId": "8811a2ec-228d-43d7-af0e-807224d4ff6a"
      },
      "execution_count": 20,
      "outputs": [
        {
          "output_type": "execute_result",
          "data": {
            "text/plain": [
              "(250.0, 1.0)"
            ]
          },
          "metadata": {},
          "execution_count": 20
        }
      ]
    },
    {
      "cell_type": "code",
      "source": [
        "# Interpretation:-\n",
        "# Covariance (250.0): Indicates a positive relationship; as height increases, weight tends to increase.\n",
        "# Correlation (1.0): Shows a perfect positive linear relationship; every increase in height corresponds to a consistent increase in weight."
      ],
      "metadata": {
        "id": "EWhuhIL_Kylm"
      },
      "execution_count": null,
      "outputs": []
    },
    {
      "cell_type": "code",
      "source": [],
      "metadata": {
        "id": "vRU3JlZgPFWc"
      },
      "execution_count": null,
      "outputs": []
    }
  ]
}