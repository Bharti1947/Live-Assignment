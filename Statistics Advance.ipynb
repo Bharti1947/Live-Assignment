{
  "nbformat": 4,
  "nbformat_minor": 0,
  "metadata": {
    "colab": {
      "provenance": []
    },
    "kernelspec": {
      "name": "python3",
      "display_name": "Python 3"
    },
    "language_info": {
      "name": "python"
    }
  },
  "cells": [
    {
      "cell_type": "markdown",
      "source": [
        "Question1: Define the z-statistic and explain its relationship to the standard normal distribution. How is the\n",
        "z-statistic used in hypothesis testing?"
      ],
      "metadata": {
        "id": "26do2my-IhQf"
      }
    },
    {
      "cell_type": "code",
      "source": [
        "# Z-Statistic :-\n",
        "# The z-statistic is a measure of how many standard deviations an individual data point (or sample mean) is away from the population mean.\n",
        "# z = (X−μ)/σ    where x = value of observation, μ = mean and σ = The population standard deviation.\n",
        "\n",
        "# Relationship to the Standard Normal Distribution:-\n",
        "# The z-statistic follows a standard normal distribution, which is a normal distribution with a mean of 0 and a standard deviation of 1.\n",
        "# It can be used to determine the probability of observing a value under the normal distribution.\n",
        "\n",
        "# Hypothesis Testing:-\n",
        "#The z-statistic helps test hypotheses about population means, determining whether to reject or fail to reject the null hypothesis based on sample data"
      ],
      "metadata": {
        "id": "MCKgkfP5I0iy"
      },
      "execution_count": null,
      "outputs": []
    },
    {
      "cell_type": "markdown",
      "source": [
        "Question2 : What is a p-value, and how is it used in hypothesis testing? What does it mean if the p-value is\n",
        "very small (e.g., 0.01)?"
      ],
      "metadata": {
        "id": "-pegPwgtKTpT"
      }
    },
    {
      "cell_type": "code",
      "source": [
        "# p- value :- The p-value is the probability of observing the test results, or something more extreme, assuming the null hypothesis is true.\n",
        "\n",
        "# Using P-Value in Hypothesis Testing:-\n",
        "#(a) Formulate Hypotheses:\n",
        " # Null Hypothesis: No effect or difference.\n",
        " # Alternative Hypothesis:There is an effect or difference.\n",
        "#(b)Collect Data: Gather sample data.\n",
        "#(c)Conduct a Statistical Test: Calculate the test statistic.\n",
        "#(d)Calculate P-Value: Determine the probability of observing the results if H0H0​ is true.\n",
        "#(e)Decision Rule:\n",
        "     #If p-value ≤α(e.g., 0.05): Reject H_0.\n",
        "     #If p-value > αα: Fail to reject H_0.\n",
        "\n",
        "# Meaning of p-value = 0.01 is :-\n",
        "# A p-value of 0.01 means there is a 1% probability of observing the results if the null hypothesis is true, indicating strong evidence against the null hypothesis.\n",
        "# This usually leads to its rejection, suggesting significant support for the alternative hypothesis."
      ],
      "metadata": {
        "id": "z8II4mLUKV1q"
      },
      "execution_count": null,
      "outputs": []
    },
    {
      "cell_type": "markdown",
      "source": [
        "Question3: Compare and contrast the binomial and Bernoulli distributions."
      ],
      "metadata": {
        "id": "8Rxh-M6qw5TY"
      }
    },
    {
      "cell_type": "code",
      "execution_count": null,
      "metadata": {
        "id": "n6S_qaMQwxB7"
      },
      "outputs": [],
      "source": [
        "# Bernoulli distribution - It is a  probability distribution in which outcomes are discreate and only two possible outcomes reffered as success(1) and failure(0).\n",
        "# One single Trial\n",
        "# example - Tossing a coin one time\n",
        "# PMF, P(X=1) = p,  P(X=0) = 1-p\n",
        "# Mean = p\n",
        "# Variance = p(1-p)\n",
        "\n",
        "# Binomial distribution - It shows the probability of getting a certain number of successes in n trials, where each try has two possible outcomes, like success or failure.\n",
        "# It is n bernoulli trial or n trials.\n",
        "# example - Tossing a coin 10 time.\n",
        "# PMF, P(X=K) =  (^nC_k)* p^k (1-p)^n-k\n",
        "# Mean = np\n",
        "# Variance = np(1-p)\n"
      ]
    },
    {
      "cell_type": "markdown",
      "source": [
        "Question 4: Under what conditions is the binomial distribution used, and how does it relate to the Bernoulli\n",
        "distribution?"
      ],
      "metadata": {
        "id": "M89-FC8D3i6-"
      }
    },
    {
      "cell_type": "code",
      "source": [
        "# Condition for using Binomial Distribution :-\n",
        "#(a) when there are only two possible outcomes.\n",
        "#(b) fixed number of n trials.\n",
        "#(c) Trials are independent.\n",
        "\n",
        "# Relation to the Bernoulli Distribution:-\n",
        "# Bernoulli distribution is a special case of binomial distribution when there is only one trial.\n",
        "# Simply we can say that binomial is n bernoulli distributtion.\n"
      ],
      "metadata": {
        "id": "jYG4wVko3qS7"
      },
      "execution_count": null,
      "outputs": []
    },
    {
      "cell_type": "markdown",
      "source": [
        "Question5: What are the key properties of the Poisson distribution, and when is it appropriate to use this\n",
        "distribution?"
      ],
      "metadata": {
        "id": "Po-FWdX96Jr-"
      }
    },
    {
      "cell_type": "code",
      "source": [
        "# Poisson Distribution - It describes that the number of events that occur within a fixed interval of time.\n",
        "# Properties: -\n",
        "#(a) It is a discreate distribution.\n",
        "#(b) Mean and variance are equal\n",
        "# i.e Mean = Variance =  λ*t\n",
        "#(c) PMF, P(X=k) = [(λ^k)*e^(−λ​)]/K!\n",
        "#(d) Events are independent.\n",
        "\n",
        "# We should use the Poisson distribution under the following conditions:-\n",
        "# Event occurs randomly and independently: The events are scattered over a fixed interval of time or space, and their occurrence is independent of each other.\n",
        "# Constant average rate: The expected number of events per unit of time or space is constant across the interval.\n",
        "# Examples :-\n",
        "#The number of phone calls received by a call center in an hour.\n",
        "#The number of people visiting temple within a specific period of time.\n"
      ],
      "metadata": {
        "id": "D9lalqsK6NFU"
      },
      "execution_count": null,
      "outputs": []
    },
    {
      "cell_type": "markdown",
      "source": [
        "Question6: Define the terms \"probability distribution\" and \"probability density function\" (PDF). How does a\n",
        "PDF differ from a probability mass function (PMF)?"
      ],
      "metadata": {
        "id": "4-v74nbo-6xZ"
      }
    },
    {
      "cell_type": "code",
      "source": [
        "# Probability Distribution - It is a mathematical function that provides the distribution of the probalities with all possible outcomes of a random variable.\n",
        "# It is classified into two types i.e,  Probability Mass Function and Probability Density Function.\n",
        "\n",
        "# Probability Density Function (PDF):-\n",
        "# It is a Probability distribution of Continuous data. It describes the probability density of the variable.\n",
        "# probability density can be greater than 1.\n",
        "\n",
        "# Difference b/w PDF and PMF:-\n",
        "# A PDF is specific to continuous random variables and describes the density of probabilities, while a PMF is specific to discrete random variables and provides exact probabilities for specific outcomes.\n"
      ],
      "metadata": {
        "id": "wVdn6qc9_BEP"
      },
      "execution_count": null,
      "outputs": []
    },
    {
      "cell_type": "markdown",
      "source": [
        "Question7: Explain the Central Limit Theorem (CLT) with example."
      ],
      "metadata": {
        "id": "FWsfiFTOCyUc"
      }
    },
    {
      "cell_type": "code",
      "source": [
        "# The Central Limit Theorem (CLT) states that if we take many random samples of a large enough size from any population,  the distribution of the sample means will be approximately normal (bell-shaped) regardless of the original population's shape.\n",
        "# Important Points of CLT are :-\n",
        "# Sample Size: sample size of 30 or more is considered sufficient.\n",
        "# Mean: The mean of the sample means will be the same as the population mean.\n",
        "# Standard Deviation: The standard deviation of the sample means called the standard error.\n",
        "\n",
        "# Example: Heights of People\n",
        "    #Scenario: we conduct a survey of people's heights in a city.\n",
        "    #Population: Heights are normally distributed with a mean of 170 cm and a standard deviation of 10 cm.\n",
        "    #Sampling: Take random samples of 50 people and calculate the average height for each sample.\n",
        "    #Result: The distribution of these average heights will also be normally distributed, centered around 170 cm.\n",
        ""
      ],
      "metadata": {
        "id": "R9Wtg3O6C1LQ"
      },
      "execution_count": null,
      "outputs": []
    },
    {
      "cell_type": "markdown",
      "source": [
        "Question8: Compare z-scores and t-scores. When should you use a z-score, and when should a t-score be applied instead?"
      ],
      "metadata": {
        "id": "ERCpBbRoODyQ"
      }
    },
    {
      "cell_type": "code",
      "source": [
        "# z socre :-\n",
        "# It is a standard normal distribution.\n",
        "# Large sample size (≥ 30).\n",
        "# Known population standard deviation.\n",
        "# Normally distributed data.\n",
        "\n",
        "# T -score:-\n",
        "# T - distribution\n",
        "# Small samples (n<30n<30)\n",
        "# Unknown population standard deviation\n",
        "# May not be normally distributed\n",
        "\n",
        "#  z-scores is used for larger samples with known standard deviations, and t-scores is used for smaller samples or unknown standard deviations.\n"
      ],
      "metadata": {
        "id": "p3sDU2nDOjOm"
      },
      "execution_count": null,
      "outputs": []
    },
    {
      "cell_type": "markdown",
      "source": [
        "Question9: Given a sample mean of 105, a population mean of 100, a standard deviation of 15, and a sample\n",
        "size of 25, calculate the z-score and p-value. Based on a significance level of 0.05, do you reject or fail to\n",
        "reject the null hypothesis?\n",
        "*   Task: Write Python code to calculate the z-score and p-value for the given data.\n",
        "*  Objective: Apply the formula for the z-score and interpret the p-value for hypothesis testing.\n"
      ],
      "metadata": {
        "id": "fGG6BAaDQKKQ"
      }
    },
    {
      "cell_type": "code",
      "source": [
        "import numpy as np\n",
        "import scipy.stats as stats\n",
        "\n",
        "# Given data\n",
        "sample_mean = 105\n",
        "population_mean = 100\n",
        "std_dev = 15\n",
        "sample_size = 25\n",
        "alpha = 0.05  # significance level\n",
        "\n",
        "#  z-score\n",
        "z_score = (sample_mean - population_mean) / (std_dev / np.sqrt(sample_size))\n",
        "\n",
        "#  p-value\n",
        "p_value = 2 * (1 - stats.norm.cdf(z_score))\n",
        "\n",
        "# Determine whether to reject or fail to reject the null hypothesis\n",
        "reject_null = p_value < alpha\n",
        "\n",
        "# Output\n",
        "print(f\"Z-Score: {z_score:.2f}\")\n",
        "print(f\"P-Value: {p_value:.3f}\")\n",
        "print(\"Reject null hypothesis:\" if reject_null else \"Fail to reject null hypothesis.\")\n"
      ],
      "metadata": {
        "colab": {
          "base_uri": "https://localhost:8080/"
        },
        "id": "0qvyE-KVQiGa",
        "outputId": "53b7b56d-bb1f-4962-b64c-941a37473f05"
      },
      "execution_count": 2,
      "outputs": [
        {
          "output_type": "stream",
          "name": "stdout",
          "text": [
            "Z-Score: 1.67\n",
            "P-Value: 0.096\n",
            "Fail to reject null hypothesis.\n"
          ]
        }
      ]
    },
    {
      "cell_type": "code",
      "source": [
        "# Interpretation:-\n",
        "# z-socre :- The sample mean (105) is 1.67 standard deviations above the population mean (100).\n",
        "# P-value :- There is a 9.6% probability of observing a sample mean as extreme as 105 if the null hypothesis is true.\n",
        "# Since the p-value (0.096) is greater than the significance level( α=0.05), we fail to reject the null hypothesis."
      ],
      "metadata": {
        "id": "jqGuIOnJRyiR"
      },
      "execution_count": null,
      "outputs": []
    },
    {
      "cell_type": "markdown",
      "source": [
        "Question10: Simulate a binomial distribution with 10 trials and a probability of success of 0.6 using Python.\n",
        "Generate 1,000 samples and plot the distribution. What is the expected mean and variance?\n",
        "Task: Use Python to generate the data, plot the distribution, and calculate the mean and variance.\n",
        "Objective: Understand the properties of a binomial distribution and verify them through simulation."
      ],
      "metadata": {
        "id": "UuyqG-VUFLdk"
      }
    },
    {
      "cell_type": "code",
      "source": [
        "import numpy as np\n",
        "import matplotlib.pyplot as plt\n",
        "\n",
        "# Parameters\n",
        "n_trials = 10\n",
        "p_success = 0.6\n",
        "n_samples = 1000\n",
        "\n",
        "# Simulate the binomial distribution\n",
        "samples = np.random.binomial(n_trials, p_success, n_samples)\n",
        "\n",
        "# Plot the distribution\n",
        "plt.hist(samples, bins=np.arange(-0.5, n_trials + 1.5, 1), density=True, alpha=0.6, color='blue')\n",
        "plt.title('Binomial Distribution (n=10, p=0.6)')\n",
        "plt.xlabel('Number of Successes')\n",
        "plt.ylabel('Probability Density')\n",
        "plt.xticks(range(n_trials + 1))\n",
        "plt.grid(axis='y', alpha=0.75)\n",
        "plt.show()\n",
        "\n",
        "# Calculate mean and variance\n",
        "expected_mean = n_trials * p_success\n",
        "expected_variance = n_trials * p_success * (1 - p_success)\n",
        "print(f\"Expected Mean: {expected_mean}\")\n",
        "print(f\"Expected Variance: {expected_variance}\")\n"
      ],
      "metadata": {
        "colab": {
          "base_uri": "https://localhost:8080/",
          "height": 507
        },
        "id": "lbZ32RKuTmCz",
        "outputId": "7a96f702-4d2e-4e41-f32c-7782062da915"
      },
      "execution_count": 5,
      "outputs": [
        {
          "output_type": "display_data",
          "data": {
            "text/plain": [
              "<Figure size 640x480 with 1 Axes>"
            ],
            "image/png": "[encoded data removed]"
          },
          "metadata": {}
        },
        {
          "output_type": "stream",
          "name": "stdout",
          "text": [
            "Expected Mean: 6.0\n",
            "Expected Variance: 2.4000000000000004\n"
          ]
        }
      ]
    },
    {
      "cell_type": "code",
      "source": [],
      "metadata": {
        "id": "B3-Uqvl6UR0p"
      },
      "execution_count": null,
      "outputs": []
    }
  ]
}